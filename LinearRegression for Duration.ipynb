{
 "cells": [
  {
   "cell_type": "code",
   "execution_count": 55,
   "metadata": {},
   "outputs": [
    {
     "name": "stdout",
     "output_type": "stream",
     "text": [
      "   Caller_Number Caller_Company  Dialled_Number Dialled_Company  \\\n",
      "0    92301000002          Warid  923100000524.0           Warid   \n",
      "4    92301000002          Warid  923470000407.0           Ufone   \n",
      "5    92301000002          Warid  923310000176.0           Warid   \n",
      "6    92301000002          Warid  923120000917.0           Warid   \n",
      "7    92301000002          Warid  923120000917.0           Ufone   \n",
      "\n",
      "        Calltype  Duration  Monetory_Rates  Month  Day  Hours  \n",
      "0  Incoming Call        31            55.8      8    1     10  \n",
      "4  Incoming Call       330           594.0      8    1     11  \n",
      "5  Incoming Call        15            27.0      8    1     11  \n",
      "6  Outgoing Call        24            43.2      8    1     12  \n",
      "7  Incoming Call       114           205.2      8    1     12  \n",
      "(66818, 10)\n"
     ]
    }
   ],
   "source": [
    "import pandas as pd\n",
    "\n",
    "full_data = pd.read_excel('Clean_dataset/new_complete_data.xlsx')\n",
    "print(full_data.head())\n",
    "\n",
    "\n",
    "full_data = full_data[full_data['Caller_Company'] =='Ufone'] \n",
    "#print full_data['Call_Company']\n",
    "#df1 = full_data[full_data[\"Duration\"] !='s'] \n",
    "print full_data.shape\n",
    "#print df2.shape\n"
   ]
  },
  {
   "cell_type": "code",
   "execution_count": 56,
   "metadata": {
    "collapsed": true
   },
   "outputs": [],
   "source": [
    "\n",
    "import numpy as np\n",
    "import pandas as pd \n",
    "import scipy.stats as stats\n",
    "import matplotlib as plt\n",
    "import sklearn\n",
    "import sklearn.linear_model as Lr\n",
    "from sklearn.model_selection import train_test_split\n",
    "\n",
    "from sklearn.preprocessing import LabelEncoder"
   ]
  },
  {
   "cell_type": "code",
   "execution_count": 57,
   "metadata": {
    "collapsed": true
   },
   "outputs": [],
   "source": [
    "#full_data[\"Call_Company\"] = pd.factorize(full_data[\"Call_Company\"])[0]\n",
    "number = LabelEncoder()\n",
    "full_data['Caller_Company'] = number.fit_transform(full_data['Caller_Company'].astype('str'))\n",
    "\n",
    "#df1[\"Caller_Number\"] = pd.factorize(full_data[\"Caller_Number\"])[0]\n",
    "full_data['Caller_Number'] = number.fit_transform(full_data['Caller_Number'].astype('str'))\n",
    "\n",
    "#full_data[\"Calltype\"] = pd.factorize(full_data[\"Calltype\"])[0]\n",
    "full_data['Calltype'] = number.fit_transform(full_data['Calltype'].astype('str'))\n",
    "\n",
    "\n",
    "full_data['Dialled_Company'] = number.fit_transform(full_data['Dialled_Company'].astype('str'))\n",
    "\n",
    "#full_data[\"Dialled_Number\"] = pd.factorize(full_data[\"Dialled_Number\"])[0]#\n",
    "full_data['Dialled_Number'] = number.fit_transform(full_data['Dialled_Number'].astype('str'))\n",
    "\n",
    "X= full_data.drop(['Duration','Monetory_Rates'], axis= 1)\n"
   ]
  },
  {
   "cell_type": "code",
   "execution_count": 58,
   "metadata": {},
   "outputs": [
    {
     "name": "stdout",
     "output_type": "stream",
     "text": [
      "Index([u'Caller_Number', u'Caller_Company', u'Dialled_Number',\n",
      "       u'Dialled_Company', u'Calltype', u'Month', u'Day', u'Hours'],\n",
      "      dtype='object')\n"
     ]
    }
   ],
   "source": [
    "X_train,X_test,Y_train,Y_test = train_test_split(X, full_data.Duration,test_size = 0.33, random_state=5)\n",
    "\n",
    "print X.columns\n",
    "#print X_test.shape\n",
    "#print Y_train\n",
    "\n",
    "#print X_test.shape\n",
    "#X_train = X_train[X_train[\"Duration\"] !='s'] \n",
    "#X_train[\"Duration\"].str.contains('s').sum()\n",
    "#print mel_count\n",
    "#print X_train"
   ]
  },
  {
   "cell_type": "code",
   "execution_count": 59,
   "metadata": {},
   "outputs": [],
   "source": [
    "#X_train= X_train.reshape(-1, 1)\n",
    "#Y_train= Y_train.reshape(-1, 1)\n",
    "#X_test= X_test.reshape(-1, 1)\n",
    "#Y_test= Y_test.reshape(-1, 1)\n",
    "lm= Lr.LinearRegression()\n",
    "lm.fit(X_train,Y_train)\n",
    "pred_train = lm.predict(X_train)\n",
    "pred_test = lm.predict(X_test)"
   ]
  },
  {
   "cell_type": "code",
   "execution_count": 60,
   "metadata": {},
   "outputs": [
    {
     "data": {
      "text/plain": [
       "0.0080328910502999173"
      ]
     },
     "execution_count": 60,
     "metadata": {},
     "output_type": "execute_result"
    }
   ],
   "source": [
    "lm.score(X_train,Y_train)\n",
    "#print pred_train.shape"
   ]
  },
  {
   "cell_type": "code",
   "execution_count": 61,
   "metadata": {},
   "outputs": [
    {
     "data": {
      "text/plain": [
       "0.0066797895126384788"
      ]
     },
     "execution_count": 61,
     "metadata": {},
     "output_type": "execute_result"
    }
   ],
   "source": [
    "\n",
    "\n",
    "lm.score(X_test,Y_test)\n",
    "#print pred_test.shape"
   ]
  },
  {
   "cell_type": "code",
   "execution_count": 62,
   "metadata": {},
   "outputs": [
    {
     "name": "stdout",
     "output_type": "stream",
     "text": [
      "(22050, 8)\n",
      "(22050L,)\n"
     ]
    }
   ],
   "source": [
    "#mse_full = np.mean((df2.Hours- pred_train) **2)\n",
    "#print mse_full\n",
    "print X_test.shape\n",
    "print pred_test.shape"
   ]
  },
  {
   "cell_type": "code",
   "execution_count": 63,
   "metadata": {},
   "outputs": [
    {
     "data": {
      "text/html": [
       "<div>\n",
       "<style>\n",
       "    .dataframe thead tr:only-child th {\n",
       "        text-align: right;\n",
       "    }\n",
       "\n",
       "    .dataframe thead th {\n",
       "        text-align: left;\n",
       "    }\n",
       "\n",
       "    .dataframe tbody tr th {\n",
       "        vertical-align: top;\n",
       "    }\n",
       "</style>\n",
       "<table border=\"1\" class=\"dataframe\">\n",
       "  <thead>\n",
       "    <tr style=\"text-align: right;\">\n",
       "      <th></th>\n",
       "      <th>features</th>\n",
       "      <th>estimatedCoefficients</th>\n",
       "    </tr>\n",
       "  </thead>\n",
       "  <tbody>\n",
       "    <tr>\n",
       "      <th>0</th>\n",
       "      <td>Caller_Number</td>\n",
       "      <td>3.145453e-01</td>\n",
       "    </tr>\n",
       "    <tr>\n",
       "      <th>1</th>\n",
       "      <td>Caller_Company</td>\n",
       "      <td>-1.366702e-14</td>\n",
       "    </tr>\n",
       "    <tr>\n",
       "      <th>2</th>\n",
       "      <td>Dialled_Number</td>\n",
       "      <td>2.431323e-03</td>\n",
       "    </tr>\n",
       "    <tr>\n",
       "      <th>3</th>\n",
       "      <td>Dialled_Company</td>\n",
       "      <td>1.171167e+01</td>\n",
       "    </tr>\n",
       "    <tr>\n",
       "      <th>4</th>\n",
       "      <td>Calltype</td>\n",
       "      <td>2.443511e+01</td>\n",
       "    </tr>\n",
       "    <tr>\n",
       "      <th>5</th>\n",
       "      <td>Duration</td>\n",
       "      <td>4.798123e-01</td>\n",
       "    </tr>\n",
       "    <tr>\n",
       "      <th>6</th>\n",
       "      <td>Monetory_Rates</td>\n",
       "      <td>-1.070605e+00</td>\n",
       "    </tr>\n",
       "    <tr>\n",
       "      <th>7</th>\n",
       "      <td>Month</td>\n",
       "      <td>-1.504669e+00</td>\n",
       "    </tr>\n",
       "  </tbody>\n",
       "</table>\n",
       "</div>"
      ],
      "text/plain": [
       "          features  estimatedCoefficients\n",
       "0    Caller_Number           3.145453e-01\n",
       "1   Caller_Company          -1.366702e-14\n",
       "2   Dialled_Number           2.431323e-03\n",
       "3  Dialled_Company           1.171167e+01\n",
       "4         Calltype           2.443511e+01\n",
       "5         Duration           4.798123e-01\n",
       "6   Monetory_Rates          -1.070605e+00\n",
       "7            Month          -1.504669e+00"
      ]
     },
     "execution_count": 63,
     "metadata": {},
     "output_type": "execute_result"
    }
   ],
   "source": [
    "pd.DataFrame(zip(full_data.columns,lm.coef_),columns=['features','estimatedCoefficients'])"
   ]
  },
  {
   "cell_type": "code",
   "execution_count": 64,
   "metadata": {},
   "outputs": [
    {
     "data": {
      "text/plain": [
       "52301.69586099113"
      ]
     },
     "execution_count": 64,
     "metadata": {},
     "output_type": "execute_result"
    }
   ],
   "source": [
    "import numpy as np\n",
    "np.mean((Y_train - lm.predict(X_train)) ** 2)"
   ]
  },
  {
   "cell_type": "code",
   "execution_count": 65,
   "metadata": {},
   "outputs": [
    {
     "data": {
      "text/plain": [
       "47385.51421057853"
      ]
     },
     "execution_count": 65,
     "metadata": {},
     "output_type": "execute_result"
    }
   ],
   "source": [
    "np.mean((Y_test - lm.predict(X_test)) ** 2)"
   ]
  },
  {
   "cell_type": "code",
   "execution_count": 66,
   "metadata": {},
   "outputs": [
    {
     "data": {
      "image/png": "[encoded data removed]",
      "text/plain": [
       "<matplotlib.figure.Figure at 0xb162518>"
      ]
     },
     "metadata": {},
     "output_type": "display_data"
    }
   ],
   "source": [
    "import matplotlib.pyplot as plt\n",
    "plt.scatter(lm.predict(X_train),lm.predict(X_train)-Y_train,c='b',s=40, alpha=0.5)\n",
    "plt.scatter(lm.predict(X_test),lm.predict(X_test)-Y_test,c='b',s=40, alpha=0.5)\n",
    "plt.hlines(y=0,xmin=0, xmax= 50)\n",
    "plt.show()"
   ]
  },
  {
   "cell_type": "code",
   "execution_count": 67,
   "metadata": {},
   "outputs": [
    {
     "data": {
      "image/png": "[encoded data removed]",
      "text/plain": [
       "<matplotlib.figure.Figure at 0xc689908>"
      ]
     },
     "metadata": {},
     "output_type": "display_data"
    }
   ],
   "source": [
    "import matplotlib.pyplot as plt\n",
    "\n",
    "fig= plt.figure()\n",
    "\n",
    "#fig.subplots_adjust(bottom=0.2)\n",
    "\n",
    "ax1 = fig.add_subplot(211)\n",
    "\n",
    "line1=ax1.plot(Y_test,'bo-',label='Actual Data')\n",
    "line2=ax1.plot(pred_test,'go-',label='Predicted Data')\n",
    "\n",
    "ax1.set_ylim(50,300)\n",
    "ax1.set_xlim(40,100)\n",
    "plt.legend()\n",
    "plt.show()"
   ]
  },
  {
   "cell_type": "code",
   "execution_count": null,
   "metadata": {
    "collapsed": true
   },
   "outputs": [],
   "source": []
  }
 ],
 "metadata": {
  "kernelspec": {
   "display_name": "Python 2",
   "language": "python",
   "name": "python2"
  },
  "language_info": {
   "codemirror_mode": {
    "name": "ipython",
    "version": 2
   },
   "file_extension": ".py",
   "mimetype": "text/x-python",
   "name": "python",
   "nbconvert_exporter": "python",
   "pygments_lexer": "ipython2",
   "version": "2.7.13"
  }
 },
 "nbformat": 4,
 "nbformat_minor": 2
}
